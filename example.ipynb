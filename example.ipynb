{
 "cells": [
  {
   "cell_type": "code",
   "execution_count": 1,
   "metadata": {
    "collapsed": false
   },
   "outputs": [
    {
     "name": "stderr",
     "output_type": "stream",
     "text": [
      "Using Theano backend.\n"
     ]
    }
   ],
   "source": [
    "from keras.models import Sequential\n",
    "from keras import layers as l\n",
    "from keras.applications.vgg16 import VGG16\n",
    "from keras_sequential_ascii import sequential_model_to_ascii_printout"
   ]
  },
  {
   "cell_type": "code",
   "execution_count": 2,
   "metadata": {
    "collapsed": false
   },
   "outputs": [
    {
     "name": "stdout",
     "output_type": "stream",
     "text": [
      "           OPERATION           DATA DIMENSIONS   WEIGHTS(N)   WEIGHTS(%)\n",
      "\n",
      "               Input   #####      3   32   32\n",
      "  BatchNormalization    μ|σ  -------------------        64     0.1%\n",
      "                       #####      3   32   32\n",
      "       Convolution2D    \\|/  -------------------       448     0.8%\n",
      "                relu   #####     16   30   30\n",
      "       Convolution2D    \\|/  -------------------      2320     4.3%\n",
      "                relu   #####     16   28   28\n",
      "        MaxPooling2D   Y max -------------------         0     0.0%\n",
      "                       #####     16   14   14\n",
      "       Convolution2D    \\|/  -------------------       272     0.5%\n",
      "                tanh   #####     16   14   14\n",
      "             Flatten   ||||| -------------------         0     0.0%\n",
      "                       #####        3136\n",
      "               Dense   XXXXX -------------------     50192    94.1%\n",
      "                       #####          16\n",
      "             Dropout    | || -------------------         0     0.0%\n",
      "                       #####          16\n",
      "               Dense   XXXXX -------------------        51     0.1%\n",
      "             softmax   #####           3\n"
     ]
    }
   ],
   "source": [
    "# this model makes no sense - just a visualization of this library\n",
    "model = Sequential()\n",
    "model.add(l.BatchNormalization(input_shape=(3, 32, 32)))\n",
    "model.add(l.Convolution2D(16, 3, 3, activation='relu'))\n",
    "model.add(l.Convolution2D(16, 3, 3, activation='relu'))\n",
    "model.add(l.MaxPooling2D((2, 2)))\n",
    "model.add(l.Convolution2D(16, 1, 1, activation='tanh'))\n",
    "model.add(l.Flatten())\n",
    "model.add(l.Dense(16))\n",
    "model.add(l.Dropout(0.5))\n",
    "model.add(l.Dense(3, activation='softmax'))\n",
    "\n",
    "sequential_model_to_ascii_printout(model)"
   ]
  },
  {
   "cell_type": "code",
   "execution_count": 3,
   "metadata": {
    "collapsed": false
   },
   "outputs": [
    {
     "name": "stdout",
     "output_type": "stream",
     "text": [
      "           OPERATION           DATA DIMENSIONS   WEIGHTS(N)   WEIGHTS(%)\n",
      "\n",
      "               Input   #####      3  224  224\n",
      "          InputLayer     |   -------------------         0     0.0%\n",
      "                       #####      3  224  224\n",
      "       Convolution2D    \\|/  -------------------      1792     0.0%\n",
      "                relu   #####     64  224  224\n",
      "       Convolution2D    \\|/  -------------------     36928     0.0%\n",
      "                relu   #####     64  224  224\n",
      "        MaxPooling2D   Y max -------------------         0     0.0%\n",
      "                       #####     64  112  112\n",
      "       Convolution2D    \\|/  -------------------     73856     0.1%\n",
      "                relu   #####    128  112  112\n",
      "       Convolution2D    \\|/  -------------------    147584     0.1%\n",
      "                relu   #####    128  112  112\n",
      "        MaxPooling2D   Y max -------------------         0     0.0%\n",
      "                       #####    128   56   56\n",
      "       Convolution2D    \\|/  -------------------    295168     0.2%\n",
      "                relu   #####    256   56   56\n",
      "       Convolution2D    \\|/  -------------------    590080     0.4%\n",
      "                relu   #####    256   56   56\n",
      "       Convolution2D    \\|/  -------------------    590080     0.4%\n",
      "                relu   #####    256   56   56\n",
      "        MaxPooling2D   Y max -------------------         0     0.0%\n",
      "                       #####    256   28   28\n",
      "       Convolution2D    \\|/  -------------------   1180160     0.9%\n",
      "                relu   #####    512   28   28\n",
      "       Convolution2D    \\|/  -------------------   2359808     1.7%\n",
      "                relu   #####    512   28   28\n",
      "       Convolution2D    \\|/  -------------------   2359808     1.7%\n",
      "                relu   #####    512   28   28\n",
      "        MaxPooling2D   Y max -------------------         0     0.0%\n",
      "                       #####    512   14   14\n",
      "       Convolution2D    \\|/  -------------------   2359808     1.7%\n",
      "                relu   #####    512   14   14\n",
      "       Convolution2D    \\|/  -------------------   2359808     1.7%\n",
      "                relu   #####    512   14   14\n",
      "       Convolution2D    \\|/  -------------------   2359808     1.7%\n",
      "                relu   #####    512   14   14\n",
      "        MaxPooling2D   Y max -------------------         0     0.0%\n",
      "                       #####    512    7    7\n",
      "             Flatten   ||||| -------------------         0     0.0%\n",
      "                       #####       25088\n",
      "               Dense   XXXXX ------------------- 102764544    74.3%\n",
      "                relu   #####        4096\n",
      "               Dense   XXXXX -------------------  16781312    12.1%\n",
      "                relu   #####        4096\n",
      "               Dense   XXXXX -------------------   4097000     3.0%\n",
      "             softmax   #####        1000\n"
     ]
    }
   ],
   "source": [
    "vgg16 = VGG16(weights=None)\n",
    "sequential_model_to_ascii_printout(vgg16)"
   ]
  },
  {
   "cell_type": "code",
   "execution_count": null,
   "metadata": {
    "collapsed": true
   },
   "outputs": [],
   "source": []
  }
 ],
 "metadata": {
  "anaconda-cloud": {},
  "kernelspec": {
   "display_name": "Python [default]",
   "language": "python",
   "name": "python3"
  },
  "language_info": {
   "codemirror_mode": {
    "name": "ipython",
    "version": 3
   },
   "file_extension": ".py",
   "mimetype": "text/x-python",
   "name": "python",
   "nbconvert_exporter": "python",
   "pygments_lexer": "ipython3",
   "version": "3.5.2"
  }
 },
 "nbformat": 4,
 "nbformat_minor": 1
}
